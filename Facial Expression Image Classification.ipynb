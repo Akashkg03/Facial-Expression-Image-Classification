{
 "cells": [
  {
   "cell_type": "markdown",
   "id": "c3297d29",
   "metadata": {},
   "source": [
    "## Problem Statement.\n",
    "- The objective of this project was to develop a machine learning model capable of classifying facial expressions in images into one of seven emotion categories: anger, disgust, fear, happiness, sadness, surprise, and neutral."
   ]
  },
  {
   "cell_type": "markdown",
   "id": "3b52ce71",
   "metadata": {},
   "source": [
    "## Importing Necessary Libraries"
   ]
  },
  {
   "cell_type": "code",
   "execution_count": 1,
   "id": "1bdb9b16",
   "metadata": {
    "ExecuteTime": {
     "end_time": "2024-02-23T02:05:56.237005Z",
     "start_time": "2024-02-23T02:05:41.119574Z"
    }
   },
   "outputs": [],
   "source": [
    "# To extract from zipfile.\n",
    "import os\n",
    "from zipfile import ZipFile\n",
    "\n",
    "# for Image processing\n",
    "from PIL import Image\n",
    "import matplotlib.pyplot as plt\n",
    "\n",
    "# for dataframe manipulation and analysis\n",
    "import pandas as pd\n",
    "import numpy as np\n",
    "\n",
    "# for data preprocessing\n",
    "from sklearn.preprocessing import LabelEncoder,StandardScaler\n",
    "\n",
    "# for model building\n",
    "from sklearn.model_selection import train_test_split\n",
    "from sklearn.svm import LinearSVC\n",
    "from sklearn.metrics import accuracy_score,confusion_matrix,classification_report"
   ]
  },
  {
   "cell_type": "markdown",
   "id": "1edd8d73",
   "metadata": {},
   "source": [
    "### Extracting files from zipfile"
   ]
  },
  {
   "cell_type": "code",
   "execution_count": 2,
   "id": "96ed5dfb",
   "metadata": {
    "ExecuteTime": {
     "end_time": "2024-02-23T02:05:56.340870Z",
     "start_time": "2024-02-23T02:05:56.246923Z"
    }
   },
   "outputs": [
    {
     "name": "stdout",
     "output_type": "stream",
     "text": [
      "extracting all the files\n",
      "destination path already exists\n"
     ]
    }
   ],
   "source": [
    "file_name = 'expression_images_dataset.zip'\n",
    "destination_path = 'expression_dataset'\n",
    "\n",
    "with ZipFile(file_name,'r') as zip:\n",
    "    print('extracting all the files')\n",
    "        \n",
    "    if (not os.path.exists(destination_path)):\n",
    "        zip.extractall(path = destination_path)\n",
    "        print('done')\n",
    "    else:\n",
    "        print('destination path already exists')"
   ]
  },
  {
   "cell_type": "markdown",
   "id": "ba54ba72",
   "metadata": {},
   "source": [
    "#### Observation\n",
    "- The files were extracted and stored in expression_dataset folder.\n",
    "- This folder had images and a csv file."
   ]
  },
  {
   "cell_type": "markdown",
   "id": "390c6048",
   "metadata": {},
   "source": [
    "## Loading dataset"
   ]
  },
  {
   "cell_type": "markdown",
   "id": "e19c70b1",
   "metadata": {},
   "source": [
    "- Loading the csv file"
   ]
  },
  {
   "cell_type": "code",
   "execution_count": 3,
   "id": "722ea82d",
   "metadata": {
    "ExecuteTime": {
     "end_time": "2024-02-23T02:05:56.568739Z",
     "start_time": "2024-02-23T02:05:56.361859Z"
    },
    "scrolled": true
   },
   "outputs": [
    {
     "data": {
      "text/html": [
       "<div>\n",
       "<style scoped>\n",
       "    .dataframe tbody tr th:only-of-type {\n",
       "        vertical-align: middle;\n",
       "    }\n",
       "\n",
       "    .dataframe tbody tr th {\n",
       "        vertical-align: top;\n",
       "    }\n",
       "\n",
       "    .dataframe thead th {\n",
       "        text-align: right;\n",
       "    }\n",
       "</style>\n",
       "<table border=\"1\" class=\"dataframe\">\n",
       "  <thead>\n",
       "    <tr style=\"text-align: right;\">\n",
       "      <th></th>\n",
       "      <th>filepath</th>\n",
       "      <th>student</th>\n",
       "      <th>facial_expression</th>\n",
       "    </tr>\n",
       "  </thead>\n",
       "  <tbody>\n",
       "    <tr>\n",
       "      <th>0</th>\n",
       "      <td>images/KA.AN1.39.tiff</td>\n",
       "      <td>KA</td>\n",
       "      <td>angry</td>\n",
       "    </tr>\n",
       "    <tr>\n",
       "      <th>1</th>\n",
       "      <td>images/KA.AN2.40.tiff</td>\n",
       "      <td>KA</td>\n",
       "      <td>angry</td>\n",
       "    </tr>\n",
       "    <tr>\n",
       "      <th>2</th>\n",
       "      <td>images/KA.AN3.41.tiff</td>\n",
       "      <td>KA</td>\n",
       "      <td>angry</td>\n",
       "    </tr>\n",
       "    <tr>\n",
       "      <th>3</th>\n",
       "      <td>images/KA.DI1.42.tiff</td>\n",
       "      <td>KA</td>\n",
       "      <td>disgust</td>\n",
       "    </tr>\n",
       "    <tr>\n",
       "      <th>4</th>\n",
       "      <td>images/KA.DI2.43.tiff</td>\n",
       "      <td>KA</td>\n",
       "      <td>disgust</td>\n",
       "    </tr>\n",
       "  </tbody>\n",
       "</table>\n",
       "</div>"
      ],
      "text/plain": [
       "                filepath student facial_expression\n",
       "0  images/KA.AN1.39.tiff      KA             angry\n",
       "1  images/KA.AN2.40.tiff      KA             angry\n",
       "2  images/KA.AN3.41.tiff      KA             angry\n",
       "3  images/KA.DI1.42.tiff      KA           disgust\n",
       "4  images/KA.DI2.43.tiff      KA           disgust"
      ]
     },
     "execution_count": 3,
     "metadata": {},
     "output_type": "execute_result"
    }
   ],
   "source": [
    "df = pd.read_csv('expression_dataset/data.csv')\n",
    "df.head()"
   ]
  },
  {
   "cell_type": "markdown",
   "id": "b17307e7",
   "metadata": {},
   "source": [
    "#### About the dataset\n",
    "The dataset has \n",
    "- filepath : path of the image\n",
    "- student: for which facial expression has been recorded.\n",
    "- facial_expression : facial expression of the student."
   ]
  },
  {
   "cell_type": "code",
   "execution_count": 4,
   "id": "d33ba886",
   "metadata": {
    "ExecuteTime": {
     "end_time": "2024-02-23T02:05:56.695667Z",
     "start_time": "2024-02-23T02:05:56.572735Z"
    },
    "scrolled": false
   },
   "outputs": [
    {
     "name": "stdout",
     "output_type": "stream",
     "text": [
      "<class 'pandas.core.frame.DataFrame'>\n",
      "RangeIndex: 213 entries, 0 to 212\n",
      "Data columns (total 3 columns):\n",
      " #   Column             Non-Null Count  Dtype \n",
      "---  ------             --------------  ----- \n",
      " 0   filepath           213 non-null    object\n",
      " 1   student            192 non-null    object\n",
      " 2   facial_expression  213 non-null    object\n",
      "dtypes: object(3)\n",
      "memory usage: 5.1+ KB\n"
     ]
    }
   ],
   "source": [
    "df.info()"
   ]
  },
  {
   "cell_type": "markdown",
   "id": "814cc25f",
   "metadata": {},
   "source": [
    "#### Observation\n",
    "- There are 213 records and 3 features.\n",
    "- Student feature has missing values,but for this task the feature is not required."
   ]
  },
  {
   "cell_type": "markdown",
   "id": "8688c9ab",
   "metadata": {},
   "source": [
    "## Data Preprocessing"
   ]
  },
  {
   "cell_type": "markdown",
   "id": "31377070",
   "metadata": {},
   "source": [
    "### Encoding the Target variable"
   ]
  },
  {
   "cell_type": "code",
   "execution_count": 5,
   "id": "4bf06107",
   "metadata": {
    "ExecuteTime": {
     "end_time": "2024-02-23T02:05:56.934604Z",
     "start_time": "2024-02-23T02:05:56.700664Z"
    }
   },
   "outputs": [],
   "source": [
    "le = LabelEncoder()\n",
    "y = le.fit_transform(df['facial_expression'])"
   ]
  },
  {
   "cell_type": "markdown",
   "id": "1f300114",
   "metadata": {},
   "source": [
    "### Feature Extraction"
   ]
  },
  {
   "cell_type": "markdown",
   "id": "26c3d0f3",
   "metadata": {
    "ExecuteTime": {
     "end_time": "2024-02-23T01:31:26.636442Z",
     "start_time": "2024-02-23T01:31:26.625448Z"
    }
   },
   "source": [
    "- Converting Image to Numerical form."
   ]
  },
  {
   "cell_type": "code",
   "execution_count": 6,
   "id": "0e171b38",
   "metadata": {
    "ExecuteTime": {
     "end_time": "2024-02-23T02:06:03.576402Z",
     "start_time": "2024-02-23T02:05:56.937526Z"
    }
   },
   "outputs": [],
   "source": [
    "x = []\n",
    "for i in range(len(df)):\n",
    "    path = 'expression_dataset/' + df.iloc[i][0]\n",
    "    im = Image.open(path)\n",
    "    imarray = np.array(im).reshape(-1)\n",
    "    x.append(imarray)"
   ]
  },
  {
   "cell_type": "markdown",
   "id": "90857ffe",
   "metadata": {},
   "source": [
    "### Train test split"
   ]
  },
  {
   "cell_type": "code",
   "execution_count": 7,
   "id": "f1e4a10d",
   "metadata": {
    "ExecuteTime": {
     "end_time": "2024-02-23T02:06:03.590401Z",
     "start_time": "2024-02-23T02:06:03.580401Z"
    }
   },
   "outputs": [],
   "source": [
    "x_train,x_test,y_train,y_test = train_test_split(x,y,test_size = 0.2,random_state = 5)"
   ]
  },
  {
   "cell_type": "markdown",
   "id": "73398256",
   "metadata": {},
   "source": [
    "### Feature Scaling"
   ]
  },
  {
   "cell_type": "code",
   "execution_count": 8,
   "id": "047d4608",
   "metadata": {
    "ExecuteTime": {
     "end_time": "2024-02-23T02:06:04.271043Z",
     "start_time": "2024-02-23T02:06:03.594397Z"
    }
   },
   "outputs": [],
   "source": [
    "scaler = StandardScaler()\n",
    "x_train = scaler.fit_transform(x_train)\n",
    "x_test = scaler.transform(x_test)"
   ]
  },
  {
   "cell_type": "markdown",
   "id": "87c77af8",
   "metadata": {},
   "source": [
    "## Model building"
   ]
  },
  {
   "cell_type": "markdown",
   "id": "b1100082",
   "metadata": {},
   "source": [
    "### Model training using SVM"
   ]
  },
  {
   "cell_type": "code",
   "execution_count": 9,
   "id": "ccb6dfda",
   "metadata": {
    "ExecuteTime": {
     "end_time": "2024-02-23T02:07:26.221154Z",
     "start_time": "2024-02-23T02:06:04.275005Z"
    }
   },
   "outputs": [
    {
     "data": {
      "text/plain": [
       "LinearSVC()"
      ]
     },
     "execution_count": 9,
     "metadata": {},
     "output_type": "execute_result"
    }
   ],
   "source": [
    "svc = LinearSVC()\n",
    "svc.fit(x_train,y_train)"
   ]
  },
  {
   "cell_type": "code",
   "execution_count": 10,
   "id": "59c1fbe5",
   "metadata": {
    "ExecuteTime": {
     "end_time": "2024-02-23T02:07:26.258132Z",
     "start_time": "2024-02-23T02:07:26.225132Z"
    },
    "scrolled": false
   },
   "outputs": [
    {
     "name": "stdout",
     "output_type": "stream",
     "text": [
      "Accuracy: 0.9767\n",
      "Confusion Matrix:\n",
      " [[6 0 0 0 0 0 0]\n",
      " [0 4 1 0 0 0 0]\n",
      " [0 0 6 0 0 0 0]\n",
      " [0 0 0 8 0 0 0]\n",
      " [0 0 0 0 7 0 0]\n",
      " [0 0 0 0 0 6 0]\n",
      " [0 0 0 0 0 0 5]]\n",
      "\n",
      "Classification Report:\n",
      "               precision    recall  f1-score   support\n",
      "\n",
      "           0       1.00      1.00      1.00         6\n",
      "           1       1.00      0.80      0.89         5\n",
      "           2       0.86      1.00      0.92         6\n",
      "           3       1.00      1.00      1.00         8\n",
      "           4       1.00      1.00      1.00         7\n",
      "           5       1.00      1.00      1.00         6\n",
      "           6       1.00      1.00      1.00         5\n",
      "\n",
      "    accuracy                           0.98        43\n",
      "   macro avg       0.98      0.97      0.97        43\n",
      "weighted avg       0.98      0.98      0.98        43\n",
      "\n"
     ]
    }
   ],
   "source": [
    "# model evaluation\n",
    "y_pred = svc.predict(x_test)\n",
    "accuracy = accuracy_score(y_test,y_pred)\n",
    "conf_matrix = confusion_matrix(y_test,y_pred)\n",
    "report = classification_report(y_test,y_pred)\n",
    "\n",
    "# printing scores                    \n",
    "print(\"Accuracy:\", round(accuracy,4))\n",
    "print(\"Confusion Matrix:\\n\", conf_matrix)\n",
    "print(\"\\nClassification Report:\\n\",report)"
   ]
  },
  {
   "cell_type": "markdown",
   "id": "e6d2afc5",
   "metadata": {},
   "source": [
    "## Conclusion\n",
    "- The model has high accuracy of 97.67%, indicating its ability to correctly classify the majority of images."
   ]
  },
  {
   "cell_type": "markdown",
   "id": "90969041",
   "metadata": {},
   "source": [
    "### Prediction on new data"
   ]
  },
  {
   "cell_type": "code",
   "execution_count": 11,
   "id": "81719702",
   "metadata": {
    "ExecuteTime": {
     "end_time": "2024-02-23T02:07:26.418097Z",
     "start_time": "2024-02-23T02:07:26.261112Z"
    }
   },
   "outputs": [],
   "source": [
    "def image_predictor(filename):\n",
    "    path_new = 'expression_dataset/images/'+ filename\n",
    "    im_new = Image.open(path_new)\n",
    "    imarray_new = np.array(im_new).reshape(-1)\n",
    "    x_new = scaler.transform([imarray_new])\n",
    "    pred = svc.predict(x_new)\n",
    "    print(le.inverse_transform(pred)[0])    "
   ]
  },
  {
   "cell_type": "code",
   "execution_count": 12,
   "id": "ae816c02",
   "metadata": {
    "ExecuteTime": {
     "end_time": "2024-02-23T02:07:26.599919Z",
     "start_time": "2024-02-23T02:07:26.422018Z"
    },
    "scrolled": true
   },
   "outputs": [
    {
     "name": "stdout",
     "output_type": "stream",
     "text": [
      "happiness\n"
     ]
    }
   ],
   "source": [
    "image_predictor('KA.HA2.30.tiff')"
   ]
  },
  {
   "cell_type": "code",
   "execution_count": 13,
   "id": "9e1408e1",
   "metadata": {
    "ExecuteTime": {
     "end_time": "2024-02-23T02:07:26.717850Z",
     "start_time": "2024-02-23T02:07:26.606916Z"
    }
   },
   "outputs": [
    {
     "data": {
      "image/png": "[encoded data removed]",
      "text/plain": [
       "<PIL.TiffImagePlugin.TiffImageFile image mode=L size=256x256>"
      ]
     },
     "execution_count": 13,
     "metadata": {},
     "output_type": "execute_result"
    }
   ],
   "source": [
    "Image.open('expression_dataset/images/KA.HA2.30.tiff')"
   ]
  }
 ],
 "metadata": {
  "kernelspec": {
   "display_name": "Python 3 (ipykernel)",
   "language": "python",
   "name": "python3"
  },
  "language_info": {
   "codemirror_mode": {
    "name": "ipython",
    "version": 3
   },
   "file_extension": ".py",
   "mimetype": "text/x-python",
   "name": "python",
   "nbconvert_exporter": "python",
   "pygments_lexer": "ipython3",
   "version": "3.9.13"
  }
 },
 "nbformat": 4,
 "nbformat_minor": 5
}
